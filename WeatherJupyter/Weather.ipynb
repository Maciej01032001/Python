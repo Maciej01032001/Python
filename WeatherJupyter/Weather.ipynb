{
  "nbformat": 4,
  "nbformat_minor": 0,
  "metadata": {
    "colab": {
      "provenance": []
    },
    "kernelspec": {
      "name": "python3",
      "display_name": "Python 3"
    },
    "language_info": {
      "name": "python"
    }
  },
  "cells": [
    {
      "cell_type": "code",
      "execution_count": 4,
      "metadata": {
        "id": "_YPv6kUJYpSc"
      },
      "outputs": [],
      "source": [
        "import requests\n",
        "from bs4 import BeautifulSoup\n",
        "import re\n",
        "\n",
        "def scrap_temperature(url, class_type, class_name):\n",
        "    response = requests.get(url)\n",
        "    soup = BeautifulSoup(response.text, 'html.parser')\n",
        "    temperature_elements = soup.find_all(class_type, class_=class_name)\n",
        "    return float(re.sub(r'[^0-9.]', '', temperature_elements[0].text.strip()))\n",
        "\n",
        "\n",
        "def weather_stats(list):\n",
        "    temp_list = []\n",
        "    for x in list:\n",
        "      try:\n",
        "        temp_list.append(scrap_temperature(x[0], x[1], x[2]))\n",
        "      except:\n",
        "        print(\"Error: \", x)\n",
        "    temperature_average = sum(temp_list)/len(temp_list)\n",
        "    temperature_range = max(temp_list) - min(temp_list)\n",
        "    return \"{:.1f}\".format(temperature_average), temperature_range\n"
      ]
    },
    {
      "cell_type": "code",
      "source": [
        "real_temperature = [['https://pogoda.onet.pl/prognoza-pogody/krakow-306020', 'div', 'temp'],\n",
        "        ['https://pogoda.interia.pl/prognoza-szczegolowa-krakow,cId,4970', 'div', 'weather-currently-temp-strict'],\n",
        "        ['https://weather.com/pl-PL/pogoda/dzisiaj/l/e1481d23825cecdec69eb630e425a2e69453111a93fed83b085cdc40415e09cd', 'span', 'CurrentConditions--tempValue--MHmYY'],\n",
        "        ['https://www.yr.no/en/forecast/daily-table/2-3094802/Poland/Lesser%20Poland/Krak%C3%B3w/Krakow', 'div', 'now-hero__next-hour-temperature-text']]\n",
        "\n",
        "feel_temperature = [['https://pogoda.onet.pl/prognoza-pogody/krakow-306020', 'span', 'feelTempValue'],\n",
        "                    ['https://pogoda.interia.pl/prognoza-szczegolowa-krakow,cId,4970', 'li', 'weather-currently-details-item feelTemperature'],\n",
        "                    ['https://weather.com/pl-PL/pogoda/dzisiaj/l/e1481d23825cecdec69eb630e425a2e69453111a93fed83b085cdc40415e09cd', 'span', 'TodayDetailsCard--feelsLikeTempValue--2icPt'],\n",
        "                    ['https://www.yr.no/en/forecast/daily-table/2-3094802/Poland/Lesser%20Poland/Krak%C3%B3w/Krakow', 'div', 'feels-like-text']]\n",
        "\n",
        "wind_speed = [['https://pogoda.onet.pl/prognoza-pogody/krakow-306020', 'div', 'windSpeedValue'],\n",
        "              ['https://weather.com/pl-PL/pogoda/dzisiaj/l/e1481d23825cecdec69eb630e425a2e69453111a93fed83b085cdc40415e09cd', 'span', 'Wind--windWrapper--3Ly7c undefined'],\n",
        "              ['https://pogoda.interia.pl/prognoza-szczegolowa-krakow,cId,4970', 'li', 'weather-currently-details-item wind']]\n",
        "\n",
        "rainfall = [['https://pogoda.onet.pl/prognoza-pogody/krakow-306020', 'span', 'restParamValue'],\n",
        "            ['https://pogoda.interia.pl/prognoza-szczegolowa-krakow,cId,4970', 'span', 'entry-precipitation-value rain'],\n",
        "            ['https://www.yr.no/en/forecast/daily-table/2-3094802/Poland/Lesser%20Poland/Krak%C3%B3w/Krakow', 'span', 'now-hero__next-hour-precipitation-value']]"
      ],
      "metadata": {
        "id": "4UaK9LKnP5Fo"
      },
      "execution_count": 5,
      "outputs": []
    },
    {
      "cell_type": "code",
      "source": [
        "print(f\"Current actual temperature mean: {weather_stats(real_temperature)[0]} °C\" )\n",
        "print(f\"Current perceived temperature mean: {weather_stats(feel_temperature)[0]} °C\")\n",
        "print(f\"Current wind speed mean:  {weather_stats(wind_speed)[0]} km/h\")\n",
        "print(f\"Current rainfall mean:  {weather_stats(rainfall)[0]} mm\")"
      ],
      "metadata": {
        "colab": {
          "base_uri": "https://localhost:8080/"
        },
        "id": "4wr9Bsl7MmUK",
        "outputId": "e4533584-d0c1-41b4-da77-b964f16d35f7"
      },
      "execution_count": 7,
      "outputs": [
        {
          "output_type": "stream",
          "name": "stdout",
          "text": [
            "Current actual temperature mean: 25.2 °C\n",
            "Current perceived temperature mean: 26.2 °C\n",
            "Current wind speed mean:  12.0 km/h\n",
            "Current rainfall mean:  0.0 mm\n"
          ]
        }
      ]
    }
  ]
}